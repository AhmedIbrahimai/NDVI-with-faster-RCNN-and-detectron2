{
 "cells": [
  {
   "cell_type": "code",
   "execution_count": 2,
   "id": "31b5e949",
   "metadata": {},
   "outputs": [],
   "source": [
    "import os \n",
    "os.chdir(r\"C:\\Users\\amb\\Downloads\\FasterRcnn\\water-body-json\\tree-json\\data\\10-img-test\\detecrton\\detectron-visiual\\detectron2\")"
   ]
  },
  {
   "cell_type": "code",
   "execution_count": 3,
   "id": "ead27fd6",
   "metadata": {},
   "outputs": [
    {
     "data": {
      "text/plain": [
       "'C:\\\\Users\\\\amb\\\\Downloads\\\\FasterRcnn\\\\water-body-json\\\\tree-json\\\\data\\\\10-img-test\\\\detecrton\\\\detectron-visiual\\\\detectron2'"
      ]
     },
     "execution_count": 3,
     "metadata": {},
     "output_type": "execute_result"
    }
   ],
   "source": [
    "pwd"
   ]
  },
  {
   "cell_type": "code",
   "execution_count": 32,
   "id": "94df6c50",
   "metadata": {},
   "outputs": [],
   "source": [
    "import cv2\n",
    "import numpy as np\n",
    "\n",
    "original = cv2.imread('r.jpg')\n",
    "\n",
    "\n",
    "def display(image, image_name):\n",
    "    image = np.array(image, dtype=float)/float(255)\n",
    "    shape = image.shape\n",
    "    height = int(shape[0] / 2)\n",
    "    width = int(shape[1] / 2)\n",
    "    image = cv2.resize(image, (width, height))\n",
    "    cv2.namedWindow(image_name)\n",
    "    cv2.imshow(image_name, image)\n",
    "    cv2.waitKey(0)\n",
    "    cv2.destroyAllWindows()\n",
    "\n",
    "\n",
    "display(original, 'Original')"
   ]
  },
  {
   "cell_type": "code",
   "execution_count": 33,
   "id": "a13bc442",
   "metadata": {},
   "outputs": [],
   "source": [
    "def contrast_stretch(im):\n",
    "    in_min = np.percentile(im, 5)\n",
    "    in_max = np.percentile(im, 95)\n",
    "\n",
    "    out_min = 0.0\n",
    "    out_max = 255.0\n",
    "\n",
    "    out = im - in_min\n",
    "    out *= ((out_min - out_max) / (in_min - in_max))\n",
    "    out += in_min\n",
    "\n",
    "    return out"
   ]
  },
  {
   "cell_type": "code",
   "execution_count": 34,
   "id": "c7a5efba",
   "metadata": {},
   "outputs": [
    {
     "data": {
      "text/plain": [
       "True"
      ]
     },
     "execution_count": 34,
     "metadata": {},
     "output_type": "execute_result"
    }
   ],
   "source": [
    "display(original, 'Original')\n",
    "contrasted = contrast_stretch(original)\n",
    "display(contrasted, 'Contrasted original')\n",
    "cv2.imwrite('contrasted.png', contrasted)"
   ]
  },
  {
   "cell_type": "code",
   "execution_count": 35,
   "id": "9ec08594",
   "metadata": {},
   "outputs": [],
   "source": [
    "def calc_ndvi(image):\n",
    "    b, g, r = cv2.split(image)\n",
    "    bottom = (r.astype(float) + b.astype(float))\n",
    "    bottom[bottom==0] = 0.01\n",
    "    ndvi = (b.astype(float) - r) / bottom\n",
    "    return ndvi"
   ]
  },
  {
   "cell_type": "code",
   "execution_count": 36,
   "id": "d10718ef",
   "metadata": {},
   "outputs": [
    {
     "data": {
      "text/plain": [
       "True"
      ]
     },
     "execution_count": 36,
     "metadata": {},
     "output_type": "execute_result"
    }
   ],
   "source": [
    "def calc_ndvi(image):\n",
    "    b, g, r = cv2.split(image)\n",
    "    bottom = (r.astype(float) + b.astype(float))\n",
    "    bottom[bottom==0] = 0.01\n",
    "    ndvi = (b.astype(float) - r) / bottom\n",
    "    return ndvi\n",
    "\n",
    "display(original, 'Original')\n",
    "contrasted = contrast_stretch(original)\n",
    "display(contrasted, 'Contrasted original')\n",
    "cv2.imwrite('contrasted.png', contrasted)\n",
    "ndvi = calc_ndvi(contrasted)\n",
    "display(ndvi, 'NDVI')\n",
    "cv2.imwrite('ndvi.png', ndvi)"
   ]
  },
  {
   "cell_type": "code",
   "execution_count": 37,
   "id": "f9e2f2b4",
   "metadata": {},
   "outputs": [
    {
     "data": {
      "text/plain": [
       "True"
      ]
     },
     "execution_count": 37,
     "metadata": {},
     "output_type": "execute_result"
    }
   ],
   "source": [
    "display(original, 'Original')\n",
    "contrasted = contrast_stretch(original)\n",
    "display(contrasted, 'Contrasted original')\n",
    "cv2.imwrite('contrasted.png', contrasted)\n",
    "ndvi = calc_ndvi(contrasted)\n",
    "display(ndvi, 'NDVI')\n",
    "ndvi_contrasted = contrast_stretch(ndvi)\n",
    "display(ndvi_contrasted, 'NDVI Contrasted')\n",
    "cv2.imwrite('ndvi_contrasted.png', ndvi_contrasted)"
   ]
  },
  {
   "cell_type": "code",
   "execution_count": 38,
   "id": "3ecb4749",
   "metadata": {},
   "outputs": [],
   "source": [
    "from fastiecm import fastiecm"
   ]
  },
  {
   "cell_type": "code",
   "execution_count": 39,
   "id": "382585cc",
   "metadata": {},
   "outputs": [],
   "source": [
    "from fastiecm import fastiecm\n",
    "\n",
    "ndvi_contrasted = contrast_stretch(ndvi)\n",
    "display(ndvi_contrasted, 'NDVI Contrasted')\n",
    "cv2.imwrite('ndvi_contrasted.png', ndvi_contrasted)\n",
    "display(original, 'Original')\n",
    "contrasted = contrast_stretch(original)\n",
    "display(contrasted, 'Contrasted original')\n",
    "cv2.imwrite('contrasted.png', contrasted)\n",
    "ndvi = calc_ndvi(contrasted)\n",
    "display(ndvi, 'NDVI')\n",
    "ndvi_contrasted = contrast_stretch(ndvi)\n",
    "display(ndvi_contrasted, 'NDVI Contrasted')\n",
    "cv2.imwrite('ndvi_contrasted.png', ndvi_contrasted)\n",
    "color_mapped_prep = ndvi_contrasted.astype(np.uint8)"
   ]
  },
  {
   "cell_type": "code",
   "execution_count": 40,
   "id": "4d7d2825",
   "metadata": {},
   "outputs": [
    {
     "data": {
      "text/plain": [
       "True"
      ]
     },
     "execution_count": 40,
     "metadata": {},
     "output_type": "execute_result"
    }
   ],
   "source": [
    "from fastiecm import fastiecm\n",
    "color_mapped_prep = ndvi_contrasted.astype(np.uint8)\n",
    "color_mapped_image = cv2.applyColorMap(color_mapped_prep, fastiecm)\n",
    "display(color_mapped_image, 'Color mapped')\n",
    "cv2.imwrite('color_mapped_image.png', color_mapped_image)"
   ]
  },
  {
   "cell_type": "code",
   "execution_count": null,
   "id": "4ae5eff3",
   "metadata": {},
   "outputs": [],
   "source": []
  }
 ],
 "metadata": {
  "kernelspec": {
   "display_name": "Python 3 (ipykernel)",
   "language": "python",
   "name": "python3"
  },
  "language_info": {
   "codemirror_mode": {
    "name": "ipython",
    "version": 3
   },
   "file_extension": ".py",
   "mimetype": "text/x-python",
   "name": "python",
   "nbconvert_exporter": "python",
   "pygments_lexer": "ipython3",
   "version": "3.9.13"
  }
 },
 "nbformat": 4,
 "nbformat_minor": 5
}
